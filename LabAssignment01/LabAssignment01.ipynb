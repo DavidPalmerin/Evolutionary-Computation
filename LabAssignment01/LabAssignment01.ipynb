{
  "nbformat": 4,
  "nbformat_minor": 0,
  "metadata": {
    "colab": {
      "name": "CE-Practica01.ipynb",
      "version": "0.3.2",
      "provenance": [],
      "collapsed_sections": []
    },
    "kernelspec": {
      "name": "python3",
      "display_name": "Python 3"
    }
  },
  "cells": [
    {
      "metadata": {
        "id": "0LLDqBjkpFH9",
        "colab_type": "code",
        "colab": {}
      },
      "cell_type": "code",
      "source": [
        "\n",
        "import numpy as np\n",
        "import matplotlib.pyplot as plt\n",
        "from mpl_toolkits.mplot3d import Axes3D\n",
        "\n",
        "# Constants\n",
        "PRECISION = 0.0000001\n",
        "X0 = (-0.5, 0.5)\n",
        "STEP = 0.001\n",
        "\n",
        "points = []\n",
        "\n",
        "def f(x, y):\n",
        "  sum = 0\n",
        "  res_x = (x + 1)**2 - (10 * np.cos((np.pi * x) / 2))\n",
        "  res_y = (y + 1)**2 - (10 * np.cos((np.pi * y) / 2))\n",
        "  return 20 + res_x + res_y\n",
        "\n",
        "def graph_function(fun, x_range, y_range):\n",
        "  fig = plt.figure()\n",
        "  ax = fig.add_subplot(111, projection='3d')\n",
        "\n",
        "  X,Y = np.meshgrid(x_range, y_range)\n",
        "  z_eval = [fun(x,y) for x,y in zip(np.ravel(X), np.ravel(Y))]\n",
        "  z_eval = np.array(z_eval)\n",
        "  Z = z_eval.reshape(X.shape)\n",
        "\n",
        "  ax.set_xlabel('X axis')\n",
        "  ax.set_ylabel('Y axis')\n",
        "  ax.set_zlabel('Z axis')\n",
        "  ax.plot_surface(X, Y, Z)\n",
        "  \n",
        "def graph_contours(fun, x_range, y_range, points):\n",
        "  X,Y     = np.meshgrid(x_range, y_range)\n",
        "  Z       = fun(X,Y)\n",
        "  plt.contour(X, Y, Z, 30, colors='grey', linewidths=.5)\n",
        "  plt.contourf(X, Y, Z, 30)\n",
        "  if points != None:\n",
        "    it_array = np.array(points)\n",
        "    plt.plot(it_array.T[0], it_array.T[1], \"x-\")\n",
        "    \n",
        "def gradient_f(vector):\n",
        "  df_x = 2.0 * vector[0] + 5.0 * np.pi * np.sin((np.pi * vector[0]) / 2.0) + 2.0\n",
        "  df_y = 2.0 * vector[1] + 5.0 * np.pi * np.sin((np.pi * vector[1]) / 2.0) + 2.0\n",
        "  return (df_x, df_y)\n",
        "\n",
        "def max_descent_f(x_0, step):\n",
        "  global points\n",
        "  points = [x_0]\n",
        "  x_i = x_0\n",
        "  gx_i = gradient_f(x_i)\n",
        "  while abs(gx_i[0]) > PRECISION or abs(gx_i[1]) > PRECISION:\n",
        "    p_i = [-1 * e for e in gx_i]\n",
        "    x_next = [x_i[k] + step * p_i[k] for k in range(len(p_i))]\n",
        "    points.append(x_next)\n",
        "    gx_i = gradient_f(x_next)\n",
        "    x_i = x_next\n",
        "     \n",
        "  return x_i\n",
        "    "
      ],
      "execution_count": 0,
      "outputs": []
    },
    {
      "metadata": {
        "id": "epHitBbPpIUK",
        "colab_type": "text"
      },
      "cell_type": "markdown",
      "source": [
        "# Cómputo Evolutivo  2019-2 \n",
        "## Facultad de Ciencias, UNAM\n",
        "\n",
        "### Práctica de Laboratorio 1: Método de descenso por gradiente\n",
        "#### Palmerin Morales David Gabriel"
      ]
    },
    {
      "metadata": {
        "id": "Iku3V8lSGxCM",
        "colab_type": "text"
      },
      "cell_type": "markdown",
      "source": [
        " **2. ** Sean  **I **= [$-\\frac{1}{2}, \\frac{1}{2}$] y $f = I \\times I \\rightarrow \\mathbb{R}$ la función: \n",
        "\n",
        "> >  $f(x_{1}, x_{2}) = 20 + \\sum_{i= 1}^{2} [(x_{i} + 1)^{2} - 10\\cos(\\frac{\\pi x_{i}}{2})]$\n"
      ]
    },
    {
      "metadata": {
        "id": "u2nNR3GWXT9x",
        "colab_type": "text"
      },
      "cell_type": "markdown",
      "source": [
        "\n",
        "> **a)** Grafica la función en el intervalo $I \\times I$"
      ]
    },
    {
      "metadata": {
        "id": "jrFZ4WD3GZhX",
        "colab_type": "code",
        "colab": {}
      },
      "cell_type": "code",
      "source": [
        "interval = np.linspace(-0.5, 0.5)\n",
        "graph_function(f, interval, interval) "
      ],
      "execution_count": 0,
      "outputs": []
    },
    {
      "metadata": {
        "id": "ESTt4xYEGvj9",
        "colab_type": "text"
      },
      "cell_type": "markdown",
      "source": [
        "> **b)** Grafica diferentes contornos de nivel"
      ]
    },
    {
      "metadata": {
        "id": "TRMHuFtjKCWG",
        "colab_type": "code",
        "colab": {}
      },
      "cell_type": "code",
      "source": [
        "interval = np.linspace(-2,2, 100)\n",
        "graph_contours(f, interval, interval, points=None)"
      ],
      "execution_count": 0,
      "outputs": []
    },
    {
      "metadata": {
        "id": "uc30SIkNpGi9",
        "colab_type": "text"
      },
      "cell_type": "markdown",
      "source": [
        "**3.** Implementa el algoritmo de máximo descenso (Cauchy) visto en clase y utilízalo para minimizar la función anterior. Usa $x = (-0.5, 0.5)$ cómo punto inicial. Usa un tamaño de paso $\\alpha$ pequeño.\n"
      ]
    },
    {
      "metadata": {
        "id": "gR5GWcBnPqoW",
        "colab_type": "text"
      },
      "cell_type": "markdown",
      "source": [
        "\n",
        "> **a)** Da la expresión analítica del vector gradiente $\\nabla f(\\vec{x})$\n",
        "\n",
        "> > $\\frac{\\partial f}{\\partial x_{1}} = 2x_{1} + 5\\pi \\sin(\\frac{\\pi x_{1}}{2}) + 2$\n",
        "\n",
        "> > $\\frac{\\partial f}{\\partial x_{2}} = 2x_{2} + 5\\pi \\sin(\\frac{\\pi x_{2}}{2}) + 2$\n",
        "\n",
        "> > $\\therefore \\nabla f(\\vec{x}) = (\\frac{\\partial f}{\\partial x_{1}}, \\frac{\\partial f}{\\partial x_{2}})$\n"
      ]
    },
    {
      "metadata": {
        "id": "J0rRX2w8VHcN",
        "colab_type": "text"
      },
      "cell_type": "markdown",
      "source": [
        ">  **b)** Da el valor de $x^{*}$ y de $f(x^{*})$ alcanzado"
      ]
    },
    {
      "metadata": {
        "id": "8svg9SiLPKkc",
        "colab_type": "code",
        "colab": {}
      },
      "cell_type": "code",
      "source": [
        "x_f = max_descent_f(X0, STEP)\n",
        "print(\"\\t > Valor inicial X0 = (%f, %f) con alpha = %f\" % (X0[0], X0[1], STEP))\n",
        "print(\"\\t > Valor de x* = %s\" % str(x_f))\n",
        "print(\"\\t > f(x) = %d\" % f(x_f[0], x_f[1]))"
      ],
      "execution_count": 0,
      "outputs": []
    },
    {
      "metadata": {
        "id": "rsr7fA7sxrvN",
        "colab_type": "text"
      },
      "cell_type": "markdown",
      "source": [
        "**4.** Sobre los contornos de nivel, grafica la trayectoria de la solución en cada iteración del algoritmo."
      ]
    },
    {
      "metadata": {
        "id": "2SwttQwAx9jO",
        "colab_type": "code",
        "colab": {}
      },
      "cell_type": "code",
      "source": [
        "interval = np.linspace(-2, 2, 100)\n",
        "#X0 = (-1.9, 1.9)\n",
        "max_descent_f(X0, STEP)\n",
        "\n",
        "print(\"\\t > Valor inicial X0 = (%s, %s) con alpha = %f\" % (X0[0], X0[1], STEP))\n",
        "graph_contours(f, interval, interval, points)"
      ],
      "execution_count": 0,
      "outputs": []
    }
  ]
}